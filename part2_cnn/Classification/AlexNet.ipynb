{
 "cells": [
  {
   "cell_type": "markdown",
   "metadata": {},
   "source": [
    "# Implementation of AlexNet [1]\n",
    "## Introduction\n",
    "In this task, we use AlexNet [1] to make image classification on CIFAR-10 dataset [2].\n",
    "1. We finetune AlexNet for 1 epoch on CIFAR-10 dataset.\n",
    "2. We evaluate the finetuned AlexNet on CIFAR-10 dataset and report its accuracy.\n",
    "\n",
    "All operations are run on the CPU.\n",
    "\n",
    "[1] Krizhevsky, Alex, Ilya Sutskever, and Geoffrey E. Hinton. \"Imagenet classification with deep convolutional neural networks.\" Advances in neural information processing systems. 2012.\\\n",
    "[2] Krizhevsky, Alex, and Geoffrey Hinton. Learning multiple layers of features from tiny images. Vol. 1. No. 4. Technical report, University of Toronto, 2009."
   ]
  },
  {
   "cell_type": "markdown",
   "metadata": {},
   "source": [
    "## Import packages"
   ]
  },
  {
   "cell_type": "code",
   "execution_count": 1,
   "metadata": {},
   "outputs": [],
   "source": [
    "import os\n",
    "import time\n",
    "import numpy as np\n",
    "import torch\n",
    "import torch.nn as nn\n",
    "import torch.optim as optim\n",
    "import torch.utils.data as data\n",
    "import torchvision.transforms as transforms\n",
    "import torchvision.datasets as datasets\n",
    "import matplotlib.pyplot as plt\n",
    "from matplotlib.pyplot import imshow, imsave"
   ]
  },
  {
   "cell_type": "markdown",
   "metadata": {},
   "source": [
    "## Load training set of CIFAR-10"
   ]
  },
  {
   "cell_type": "code",
   "execution_count": 2,
   "metadata": {},
   "outputs": [
    {
     "name": "stdout",
     "output_type": "stream",
     "text": [
      "Files already downloaded and verified\n"
     ]
    }
   ],
   "source": [
    "transform_train = transforms.Compose([\n",
    "    transforms.RandomCrop(32, padding=4),\n",
    "    transforms.RandomHorizontalFlip(),\n",
    "    transforms.ToTensor(),\n",
    "    transforms.Normalize((0.4914, 0.4822, 0.4465), (0.2023, 0.1994, 0.2010)),\n",
    "])\n",
    "trainset = datasets.CIFAR10(root='./data', train=True, download=True, transform=transform_train)\n",
    "trainloader = data.DataLoader(trainset, batch_size=128, shuffle=True, num_workers=4)\n",
    "num_classes = 10"
   ]
  },
  {
   "cell_type": "markdown",
   "metadata": {},
   "source": [
    "## Build AlexNet"
   ]
  },
  {
   "cell_type": "code",
   "execution_count": 3,
   "metadata": {},
   "outputs": [
    {
     "name": "stdout",
     "output_type": "stream",
     "text": [
      "Total params: 2.47M\n"
     ]
    }
   ],
   "source": [
    "class AlexNet(nn.Module):\n",
    "\n",
    "    def __init__(self, num_classes=10):\n",
    "        super(AlexNet, self).__init__()\n",
    "        self.features = nn.Sequential(\n",
    "            nn.Conv2d(3, 64, kernel_size=11, stride=4, padding=5),\n",
    "            nn.ReLU(inplace=True),\n",
    "            nn.MaxPool2d(kernel_size=2, stride=2),\n",
    "            nn.Conv2d(64, 192, kernel_size=5, padding=2),\n",
    "            nn.ReLU(inplace=True),\n",
    "            nn.MaxPool2d(kernel_size=2, stride=2),\n",
    "            nn.Conv2d(192, 384, kernel_size=3, padding=1),\n",
    "            nn.ReLU(inplace=True),\n",
    "            nn.Conv2d(384, 256, kernel_size=3, padding=1),\n",
    "            nn.ReLU(inplace=True),\n",
    "            nn.Conv2d(256, 256, kernel_size=3, padding=1),\n",
    "            nn.ReLU(inplace=True),\n",
    "            nn.MaxPool2d(kernel_size=2, stride=2),\n",
    "        )\n",
    "        self.classifier = nn.Linear(256, num_classes)\n",
    "\n",
    "    def forward(self, x):\n",
    "        x = self.features(x)\n",
    "        x = x.view(x.size(0), -1)\n",
    "        x = self.classifier(x)\n",
    "        return x\n",
    "\n",
    "model = AlexNet(num_classes = num_classes)\n",
    "print('Total params: %.2fM' % (sum(p.numel() for p in model.parameters()) / 1000000.0))"
   ]
  },
  {
   "cell_type": "markdown",
   "metadata": {},
   "source": [
    "## Build loss & optimizer"
   ]
  },
  {
   "cell_type": "code",
   "execution_count": 4,
   "metadata": {},
   "outputs": [],
   "source": [
    "criterion = nn.CrossEntropyLoss()\n",
    "optimizer = optim.SGD(model.parameters(), lr=0.001, momentum=0.9, weight_decay=5e-4)"
   ]
  },
  {
   "cell_type": "markdown",
   "metadata": {},
   "source": [
    "## Load pretrained AlexNet\n",
    "Training a full network needs GPU and many times. So we finetune the network based on the provided pretrained\n",
    "model."
   ]
  },
  {
   "cell_type": "code",
   "execution_count": 5,
   "metadata": {},
   "outputs": [
    {
     "data": {
      "text/plain": [
       "IncompatibleKeys(missing_keys=[], unexpected_keys=[])"
      ]
     },
     "execution_count": 5,
     "metadata": {},
     "output_type": "execute_result"
    }
   ],
   "source": [
    "checkpoint = torch.load('pretrained/pretrained_alexnet.pth.tar')\n",
    "model.load_state_dict({k.replace('module.',''):v for k,v in checkpoint['state_dict'].items()})"
   ]
  },
  {
   "cell_type": "markdown",
   "metadata": {},
   "source": [
    "## Define AverageMeter & accuracy"
   ]
  },
  {
   "cell_type": "code",
   "execution_count": 6,
   "metadata": {},
   "outputs": [],
   "source": [
    "class AverageMeter(object):\n",
    "    \"\"\"Computes and stores the average and current value\n",
    "       Imported from https://github.com/pytorch/examples/blob/master/imagenet/main.py#L247-L262\n",
    "    \"\"\"\n",
    "    def __init__(self):\n",
    "        self.reset()\n",
    "\n",
    "    def reset(self):\n",
    "        self.val = 0\n",
    "        self.avg = 0\n",
    "        self.sum = 0\n",
    "        self.count = 0\n",
    "\n",
    "    def update(self, val, n=1):\n",
    "        self.val = val\n",
    "        self.sum += val * n\n",
    "        self.count += n\n",
    "        self.avg = self.sum / self.count\n",
    "\n",
    "def accuracy(output, target, topk=(1,)):\n",
    "    \"\"\"Computes the precision@k for the specified values of k\"\"\"\n",
    "    maxk = max(topk)\n",
    "    batch_size = target.size(0)\n",
    "\n",
    "    _, pred = output.topk(maxk, 1, True, True)\n",
    "    pred = pred.t()\n",
    "    correct = pred.eq(target.view(1, -1).expand_as(pred))\n",
    "\n",
    "    res = []\n",
    "    for k in topk:\n",
    "        correct_k = correct[:k].view(-1).float().sum(0)\n",
    "        res.append(correct_k.mul_(100.0 / batch_size))\n",
    "    return res"
   ]
  },
  {
   "cell_type": "markdown",
   "metadata": {},
   "source": [
    "## Finetune for 1 epoch"
   ]
  },
  {
   "cell_type": "code",
   "execution_count": 7,
   "metadata": {},
   "outputs": [
    {
     "name": "stdout",
     "output_type": "stream",
     "text": [
      "(10/391) Data: 0.22s | Batch: 3.10s | Total: 31.03s | ETA: 1182.06s | Loss: 0.15 | top1:  94.22 | top5:  100.00\n",
      "(20/391) Data: 0.15s | Batch: 2.85s | Total: 56.93s | ETA: 1055.98s | Loss: 0.15 | top1:  94.61 | top5:  100.00\n",
      "(30/391) Data: 0.12s | Batch: 2.74s | Total: 82.32s | ETA: 990.64s | Loss: 0.15 | top1:  94.64 | top5:  100.00\n",
      "(40/391) Data: 0.10s | Batch: 2.67s | Total: 106.92s | ETA: 938.26s | Loss: 0.16 | top1:  94.51 | top5:  99.98\n",
      "(50/391) Data: 0.09s | Batch: 2.68s | Total: 133.82s | ETA: 912.67s | Loss: 0.16 | top1:  94.39 | top5:  99.95\n",
      "(60/391) Data: 0.09s | Batch: 2.63s | Total: 157.72s | ETA: 870.11s | Loss: 0.16 | top1:  94.38 | top5:  99.95\n",
      "(70/391) Data: 0.09s | Batch: 2.61s | Total: 182.62s | ETA: 837.46s | Loss: 0.16 | top1:  94.24 | top5:  99.96\n",
      "(80/391) Data: 0.08s | Batch: 2.60s | Total: 207.82s | ETA: 807.91s | Loss: 0.16 | top1:  94.25 | top5:  99.96\n",
      "(90/391) Data: 0.08s | Batch: 2.58s | Total: 232.42s | ETA: 777.32s | Loss: 0.16 | top1:  94.28 | top5:  99.96\n",
      "(100/391) Data: 0.08s | Batch: 2.58s | Total: 257.92s | ETA: 750.54s | Loss: 0.16 | top1:  94.25 | top5:  99.96\n",
      "(110/391) Data: 0.08s | Batch: 2.57s | Total: 282.32s | ETA: 721.20s | Loss: 0.16 | top1:  94.30 | top5:  99.96\n",
      "(120/391) Data: 0.08s | Batch: 2.57s | Total: 308.02s | ETA: 695.62s | Loss: 0.16 | top1:  94.27 | top5:  99.97\n",
      "(130/391) Data: 0.08s | Batch: 2.56s | Total: 332.62s | ETA: 667.80s | Loss: 0.16 | top1:  94.27 | top5:  99.96\n",
      "(140/391) Data: 0.08s | Batch: 2.55s | Total: 356.82s | ETA: 639.73s | Loss: 0.16 | top1:  94.25 | top5:  99.97\n",
      "(150/391) Data: 0.07s | Batch: 2.55s | Total: 382.12s | ETA: 613.94s | Loss: 0.16 | top1:  94.29 | top5:  99.97\n",
      "(160/391) Data: 0.07s | Batch: 2.53s | Total: 405.52s | ETA: 585.47s | Loss: 0.16 | top1:  94.29 | top5:  99.97\n",
      "(170/391) Data: 0.07s | Batch: 2.53s | Total: 429.82s | ETA: 558.77s | Loss: 0.16 | top1:  94.38 | top5:  99.97\n",
      "(180/391) Data: 0.07s | Batch: 2.53s | Total: 456.12s | ETA: 534.67s | Loss: 0.16 | top1:  94.38 | top5:  99.97\n",
      "(190/391) Data: 0.07s | Batch: 2.53s | Total: 480.62s | ETA: 508.44s | Loss: 0.16 | top1:  94.39 | top5:  99.97\n",
      "(200/391) Data: 0.07s | Batch: 2.53s | Total: 505.22s | ETA: 482.48s | Loss: 0.16 | top1:  94.41 | top5:  99.97\n",
      "(210/391) Data: 0.07s | Batch: 2.52s | Total: 529.12s | ETA: 456.05s | Loss: 0.16 | top1:  94.41 | top5:  99.97\n",
      "(220/391) Data: 0.07s | Batch: 2.52s | Total: 554.92s | ETA: 431.32s | Loss: 0.16 | top1:  94.36 | top5:  99.97\n",
      "(230/391) Data: 0.07s | Batch: 2.52s | Total: 580.22s | ETA: 406.15s | Loss: 0.16 | top1:  94.39 | top5:  99.97\n",
      "(240/391) Data: 0.07s | Batch: 2.53s | Total: 607.52s | ETA: 382.23s | Loss: 0.16 | top1:  94.39 | top5:  99.97\n",
      "(250/391) Data: 0.07s | Batch: 2.53s | Total: 633.02s | ETA: 357.02s | Loss: 0.16 | top1:  94.38 | top5:  99.97\n",
      "(260/391) Data: 0.07s | Batch: 2.53s | Total: 658.21s | ETA: 331.64s | Loss: 0.16 | top1:  94.36 | top5:  99.97\n",
      "(270/391) Data: 0.07s | Batch: 2.53s | Total: 683.01s | ETA: 306.09s | Loss: 0.16 | top1:  94.35 | top5:  99.97\n",
      "(280/391) Data: 0.07s | Batch: 2.53s | Total: 708.31s | ETA: 280.80s | Loss: 0.16 | top1:  94.36 | top5:  99.97\n",
      "(290/391) Data: 0.07s | Batch: 2.53s | Total: 732.31s | ETA: 255.05s | Loss: 0.16 | top1:  94.34 | top5:  99.98\n",
      "(300/391) Data: 0.07s | Batch: 2.53s | Total: 757.62s | ETA: 229.81s | Loss: 0.16 | top1:  94.33 | top5:  99.98\n",
      "(310/391) Data: 0.07s | Batch: 2.52s | Total: 782.02s | ETA: 204.33s | Loss: 0.17 | top1:  94.33 | top5:  99.98\n",
      "(320/391) Data: 0.07s | Batch: 2.52s | Total: 807.02s | ETA: 179.06s | Loss: 0.16 | top1:  94.34 | top5:  99.98\n",
      "(330/391) Data: 0.07s | Batch: 2.52s | Total: 832.12s | ETA: 153.82s | Loss: 0.17 | top1:  94.36 | top5:  99.98\n",
      "(340/391) Data: 0.07s | Batch: 2.52s | Total: 855.62s | ETA: 128.34s | Loss: 0.17 | top1:  94.37 | top5:  99.98\n",
      "(350/391) Data: 0.07s | Batch: 2.52s | Total: 882.82s | ETA: 103.42s | Loss: 0.17 | top1:  94.34 | top5:  99.98\n",
      "(360/391) Data: 0.07s | Batch: 2.52s | Total: 906.62s | ETA: 78.07s | Loss: 0.17 | top1:  94.32 | top5:  99.98\n",
      "(370/391) Data: 0.07s | Batch: 2.51s | Total: 930.21s | ETA: 52.80s | Loss: 0.17 | top1:  94.29 | top5:  99.97\n",
      "(380/391) Data: 0.07s | Batch: 2.51s | Total: 955.01s | ETA: 27.65s | Loss: 0.17 | top1:  94.29 | top5:  99.97\n",
      "(390/391) Data: 0.07s | Batch: 2.51s | Total: 977.92s | ETA: 2.51s | Loss: 0.17 | top1:  94.30 | top5:  99.97\n"
     ]
    }
   ],
   "source": [
    "model.train()\n",
    "\n",
    "batch_time = AverageMeter()\n",
    "data_time = AverageMeter()\n",
    "losses = AverageMeter()\n",
    "top1 = AverageMeter()\n",
    "top5 = AverageMeter()\n",
    "end = time.time()\n",
    "\n",
    "for batch_idx, (inputs, targets) in enumerate(trainloader):\n",
    "    # measure data loading time\n",
    "    data_time.update(time.time() - end)\n",
    "    \n",
    "    inputs, targets = torch.autograd.Variable(inputs), torch.autograd.Variable(targets)\n",
    "    \n",
    "    # compute output\n",
    "    outputs = model(inputs)\n",
    "    loss = criterion(outputs, targets)\n",
    "\n",
    "    # measure accuracy and record loss\n",
    "    prec1, prec5 = accuracy(outputs.data, targets.data, topk=(1, 5))\n",
    "    losses.update(loss.data.item(), inputs.size(0))\n",
    "    top1.update(prec1.item(), inputs.size(0))\n",
    "    top5.update(prec5.item(), inputs.size(0))\n",
    "\n",
    "    # compute gradient and do SGD step\n",
    "    optimizer.zero_grad()\n",
    "    loss.backward()\n",
    "    optimizer.step()\n",
    "\n",
    "    # measure elapsed time\n",
    "    batch_time.update(time.time() - end)\n",
    "    end = time.time()\n",
    "\n",
    "    # plot progress\n",
    "    if (batch_idx + 1) % 10 == 0:\n",
    "        log = '({batch}/{size}) Data: {data:.2f}s | Batch: {bt:.2f}s | Total: {total:.2f}s | ETA: {eta:.2f}s | Loss: {loss:.2f} | top1: {top1: .2f} | top5: {top5: .2f}'.format(\n",
    "            batch=batch_idx + 1,\n",
    "            size=len(trainloader),\n",
    "            data=data_time.avg,\n",
    "            bt=batch_time.avg,\n",
    "            total=batch_time.sum,\n",
    "            eta=batch_time.avg*(len(trainloader)-batch_idx-1),\n",
    "            loss=losses.avg,\n",
    "            top1=top1.avg,\n",
    "            top5=top5.avg)\n",
    "        print(log)"
   ]
  },
  {
   "cell_type": "markdown",
   "metadata": {},
   "source": [
    "## Save finetuned model"
   ]
  },
  {
   "cell_type": "code",
   "execution_count": 8,
   "metadata": {},
   "outputs": [],
   "source": [
    "def save_checkpoint(state, checkpoint='checkpoint', filename='checkpoint.pth.tar'):\n",
    "    if not os.path.isdir(checkpoint):\n",
    "        os.makedirs(checkpoint)\n",
    "    filepath = os.path.join(checkpoint, filename)\n",
    "    torch.save(state, filepath)\n",
    "\n",
    "save_checkpoint({\n",
    "    'model_name': 'finetuned_alexnet',\n",
    "    'state_dict': model.state_dict()}, \n",
    "    checkpoint='checkpoint/alexnet/',\n",
    "    filename='finetuned_alexnet.pth.tar')"
   ]
  },
  {
   "cell_type": "code",
   "execution_count": 9,
   "metadata": {},
   "outputs": [],
   "source": [
    "# checkpoint = torch.load('checkpoint/alexnet/finetuned_alexnet.pth.tar')\n",
    "# model.load_state_dict({k.replace('module.',''):v for k,v in checkpoint['state_dict'].items()})"
   ]
  },
  {
   "cell_type": "markdown",
   "metadata": {},
   "source": [
    "## Load testing set of CIFAR-10"
   ]
  },
  {
   "cell_type": "code",
   "execution_count": 10,
   "metadata": {},
   "outputs": [],
   "source": [
    "transform_test = transforms.Compose([\n",
    "    transforms.ToTensor(),\n",
    "    transforms.Normalize((0.4914, 0.4822, 0.4465), (0.2023, 0.1994, 0.2010)),\n",
    "])\n",
    "testset = datasets.CIFAR10(root='./data', train=False, download=False, transform=transform_test)\n",
    "testloader = data.DataLoader(testset, batch_size=100, shuffle=False, num_workers=4)"
   ]
  },
  {
   "cell_type": "markdown",
   "metadata": {},
   "source": [
    "## Evaluate finetuned AlexNet on CIFAR-10"
   ]
  },
  {
   "cell_type": "code",
   "execution_count": 11,
   "metadata": {},
   "outputs": [
    {
     "name": "stdout",
     "output_type": "stream",
     "text": [
      "(10/100) Data: 0.11s | Batch: 0.64s | Total: 6.44s | ETA: 57.96s | Loss: 0.73 | top1:  77.40 | top5:  98.80\n",
      "(20/100) Data: 0.08s | Batch: 0.61s | Total: 12.24s | ETA: 48.95s | Loss: 0.77 | top1:  77.60 | top5:  98.60\n",
      "(30/100) Data: 0.07s | Batch: 0.60s | Total: 17.93s | ETA: 41.85s | Loss: 0.81 | top1:  77.33 | top5:  98.33\n",
      "(40/100) Data: 0.07s | Batch: 0.59s | Total: 23.43s | ETA: 35.15s | Loss: 0.82 | top1:  77.12 | top5:  98.28\n",
      "(50/100) Data: 0.06s | Batch: 0.58s | Total: 29.14s | ETA: 29.14s | Loss: 0.83 | top1:  77.12 | top5:  98.22\n",
      "(60/100) Data: 0.06s | Batch: 0.57s | Total: 34.34s | ETA: 22.89s | Loss: 0.82 | top1:  77.03 | top5:  98.30\n",
      "(70/100) Data: 0.06s | Batch: 0.57s | Total: 39.64s | ETA: 16.99s | Loss: 0.82 | top1:  76.87 | top5:  98.31\n",
      "(80/100) Data: 0.06s | Batch: 0.56s | Total: 45.04s | ETA: 11.26s | Loss: 0.83 | top1:  76.76 | top5:  98.33\n",
      "(90/100) Data: 0.05s | Batch: 0.56s | Total: 50.84s | ETA: 5.65s | Loss: 0.82 | top1:  76.88 | top5:  98.34\n",
      "(100/100) Data: 0.05s | Batch: 0.56s | Total: 55.64s | ETA: 0.00s | Loss: 0.82 | top1:  76.88 | top5:  98.40\n",
      "Final accuracy: 76.88 (top1), 98.40 (top5)}\n"
     ]
    }
   ],
   "source": [
    "# switch to evaluate mode\n",
    "model.eval()\n",
    "\n",
    "batch_time = AverageMeter()\n",
    "data_time = AverageMeter()\n",
    "losses = AverageMeter()\n",
    "top1 = AverageMeter()\n",
    "top5 = AverageMeter()\n",
    "end = time.time()\n",
    "\n",
    "for batch_idx, (inputs, targets) in enumerate(testloader):\n",
    "    # measure data loading time\n",
    "    data_time.update(time.time() - end)\n",
    "\n",
    "    with torch.no_grad():\n",
    "        inputs, targets = torch.autograd.Variable(inputs), torch.autograd.Variable(targets)\n",
    "        \n",
    "        # compute output\n",
    "        outputs = model(inputs)\n",
    "\n",
    "    loss = criterion(outputs, targets)\n",
    "\n",
    "    # measure accuracy and record loss\n",
    "    prec1, prec5 = accuracy(outputs.data, targets.data, topk=(1, 5))\n",
    "    losses.update(loss.data.item(), inputs.size(0))\n",
    "    top1.update(prec1.item(), inputs.size(0))\n",
    "    top5.update(prec5.item(), inputs.size(0))\n",
    "\n",
    "    # measure elapsed time\n",
    "    batch_time.update(time.time() - end)\n",
    "    end = time.time()\n",
    "\n",
    "    # plot progress\n",
    "    if (batch_idx + 1) % 10 == 0:\n",
    "        log = '({batch}/{size}) Data: {data:.2f}s | Batch: {bt:.2f}s | Total: {total:.2f}s | ETA: {eta:.2f}s | Loss: {loss:.2f} | top1: {top1: .2f} | top5: {top5: .2f}'.format(\n",
    "            batch=batch_idx + 1,\n",
    "            size=len(testloader),\n",
    "            data=data_time.avg,\n",
    "            bt=batch_time.avg,\n",
    "            total=batch_time.sum,\n",
    "            eta=batch_time.avg*(len(testloader)-batch_idx-1),\n",
    "            loss=losses.avg,\n",
    "            top1=top1.avg,\n",
    "            top5=top5.avg)\n",
    "        print(log)\n",
    "print('Final accuracy: %.2f (top1), %.2f (top5)}'%(top1.avg, top5.avg))\n"
   ]
  },
  {
   "cell_type": "markdown",
   "metadata": {},
   "source": [
    "## Visualization"
   ]
  },
  {
   "cell_type": "code",
   "execution_count": 12,
   "metadata": {},
   "outputs": [],
   "source": [
    "categories = ['airplane', 'automobile', 'bird', 'cat', 'deer', 'dog', 'frog', 'horse', 'ship', 'truck']"
   ]
  },
  {
   "cell_type": "code",
   "execution_count": 13,
   "metadata": {},
   "outputs": [],
   "source": [
    "def get_rgb_img(idx, dataset):\n",
    "    img = dataset[idx][0].numpy().transpose(1, 2, 0) \n",
    "    img = ((img * (0.2023, 0.1994, 0.2010) + (0.4914, 0.4822, 0.4465)) * 255).astype(np.uint8)\n",
    "    return img"
   ]
  },
  {
   "cell_type": "code",
   "execution_count": 14,
   "metadata": {},
   "outputs": [
    {
     "name": "stdout",
     "output_type": "stream",
     "text": [
      "Categoriy: airplane, Possibility: 0.99\n",
      "Categoriy: bird, Possibility: 0.00\n",
      "Categoriy: cat, Possibility: 0.00\n"
     ]
    },
    {
     "data": {
      "image/png": "[encoded data removed]",
      "text/plain": [
       "<Figure size 432x288 with 1 Axes>"
      ]
     },
     "metadata": {
      "needs_background": "light"
     },
     "output_type": "display_data"
    }
   ],
   "source": [
    "model.eval()\n",
    "\n",
    "img_idx = 10\n",
    "rgb_img = get_rgb_img(img_idx, testset)\n",
    "imshow(rgb_img)\n",
    "output = model(testset[img_idx][0].unsqueeze(0))\n",
    "score = output.softmax(1).detach().numpy()\n",
    "\n",
    "top3_idx = np.argsort(-score)[0][:3]\n",
    "for i in top3_idx:\n",
    "    print('Categoriy: %s, Possibility: %.2f'%(categories[i], score[0][i]))"
   ]
  },
  {
   "cell_type": "code",
   "execution_count": 15,
   "metadata": {},
   "outputs": [
    {
     "name": "stdout",
     "output_type": "stream",
     "text": [
      "Categoriy: frog, Possibility: 0.88\n",
      "Categoriy: cat, Possibility: 0.10\n",
      "Categoriy: dog, Possibility: 0.02\n"
     ]
    },
    {
     "data": {
      "image/png": "[encoded data removed]",
      "text/plain": [
       "<Figure size 432x288 with 1 Axes>"
      ]
     },
     "metadata": {
      "needs_background": "light"
     },
     "output_type": "display_data"
    }
   ],
   "source": [
    "model.eval()\n",
    "\n",
    "img_idx = 30\n",
    "rgb_img = get_rgb_img(img_idx, testset)\n",
    "imshow(rgb_img)\n",
    "output = model(testset[img_idx][0].unsqueeze(0))\n",
    "score = output.softmax(1).detach().numpy()\n",
    "\n",
    "top3_idx = np.argsort(-score)[0][:3]\n",
    "for i in top3_idx:\n",
    "    print('Categoriy: %s, Possibility: %.2f'%(categories[i], score[0][i]))"
   ]
  },
  {
   "cell_type": "code",
   "execution_count": null,
   "metadata": {},
   "outputs": [],
   "source": []
  }
 ],
 "metadata": {
  "kernelspec": {
   "display_name": "Python 3",
   "language": "python",
   "name": "python3"
  },
  "language_info": {
   "codemirror_mode": {
    "name": "ipython",
    "version": 3
   },
   "file_extension": ".py",
   "mimetype": "text/x-python",
   "name": "python",
   "nbconvert_exporter": "python",
   "pygments_lexer": "ipython3",
   "version": "3.7.3"
  }
 },
 "nbformat": 4,
 "nbformat_minor": 2
}
